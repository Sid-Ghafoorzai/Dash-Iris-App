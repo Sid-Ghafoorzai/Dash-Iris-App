{
 "cells": [
  {
   "cell_type": "markdown",
   "id": "4dca0ef2-c468-422c-a2c9-494301d148fb",
   "metadata": {
    "jp-MarkdownHeadingCollapsed": true,
    "tags": []
   },
   "source": [
    "## Importing and Exploring the dataset"
   ]
  },
  {
   "cell_type": "code",
   "execution_count": 3,
   "id": "c79960f4-e66b-4892-b583-cf35c65836cf",
   "metadata": {},
   "outputs": [],
   "source": [
    "# We are using scikit-learn library to import the iris data set.\n",
    "from sklearn.datasets import load_iris\n",
    "\n",
    "import pandas as pd\n",
    "\n",
    "\n",
    "# Loading the Iris dataset to python\n",
    "iris = load_iris()\n",
    "\n",
    "# Creating a DataFrame from the data with the feature names\n",
    "iris_df = pd.DataFrame(data=iris.data, columns=iris.feature_names)\n",
    "\n",
    "# Adding a 'target' column to the DataFrame,\n",
    "iris_df['target'] = iris.target\n",
    "\n",
    "target_names = iris.target_names"
   ]
  },
  {
   "cell_type": "code",
   "execution_count": 4,
   "id": "69c68ae7-4ce1-4797-b70e-400524b12364",
   "metadata": {},
   "outputs": [
    {
     "data": {
      "text/html": [
       "<div>\n",
       "<style scoped>\n",
       "    .dataframe tbody tr th:only-of-type {\n",
       "        vertical-align: middle;\n",
       "    }\n",
       "\n",
       "    .dataframe tbody tr th {\n",
       "        vertical-align: top;\n",
       "    }\n",
       "\n",
       "    .dataframe thead th {\n",
       "        text-align: right;\n",
       "    }\n",
       "</style>\n",
       "<table border=\"1\" class=\"dataframe\">\n",
       "  <thead>\n",
       "    <tr style=\"text-align: right;\">\n",
       "      <th></th>\n",
       "      <th>sepal length (cm)</th>\n",
       "      <th>sepal width (cm)</th>\n",
       "      <th>petal length (cm)</th>\n",
       "      <th>petal width (cm)</th>\n",
       "      <th>target</th>\n",
       "    </tr>\n",
       "  </thead>\n",
       "  <tbody>\n",
       "    <tr>\n",
       "      <th>0</th>\n",
       "      <td>5.1</td>\n",
       "      <td>3.5</td>\n",
       "      <td>1.4</td>\n",
       "      <td>0.2</td>\n",
       "      <td>0</td>\n",
       "    </tr>\n",
       "    <tr>\n",
       "      <th>1</th>\n",
       "      <td>4.9</td>\n",
       "      <td>3.0</td>\n",
       "      <td>1.4</td>\n",
       "      <td>0.2</td>\n",
       "      <td>0</td>\n",
       "    </tr>\n",
       "    <tr>\n",
       "      <th>2</th>\n",
       "      <td>4.7</td>\n",
       "      <td>3.2</td>\n",
       "      <td>1.3</td>\n",
       "      <td>0.2</td>\n",
       "      <td>0</td>\n",
       "    </tr>\n",
       "    <tr>\n",
       "      <th>3</th>\n",
       "      <td>4.6</td>\n",
       "      <td>3.1</td>\n",
       "      <td>1.5</td>\n",
       "      <td>0.2</td>\n",
       "      <td>0</td>\n",
       "    </tr>\n",
       "    <tr>\n",
       "      <th>4</th>\n",
       "      <td>5.0</td>\n",
       "      <td>3.6</td>\n",
       "      <td>1.4</td>\n",
       "      <td>0.2</td>\n",
       "      <td>0</td>\n",
       "    </tr>\n",
       "  </tbody>\n",
       "</table>\n",
       "</div>"
      ],
      "text/plain": [
       "   sepal length (cm)  sepal width (cm)  petal length (cm)  petal width (cm)  \\\n",
       "0                5.1               3.5                1.4               0.2   \n",
       "1                4.9               3.0                1.4               0.2   \n",
       "2                4.7               3.2                1.3               0.2   \n",
       "3                4.6               3.1                1.5               0.2   \n",
       "4                5.0               3.6                1.4               0.2   \n",
       "\n",
       "   target  \n",
       "0       0  \n",
       "1       0  \n",
       "2       0  \n",
       "3       0  \n",
       "4       0  "
      ]
     },
     "execution_count": 4,
     "metadata": {},
     "output_type": "execute_result"
    }
   ],
   "source": [
    "#we are checking the column names in the data set \n",
    "iris_df.head()"
   ]
  },
  {
   "cell_type": "code",
   "execution_count": 33,
   "id": "7a70e7f3-8024-4e2a-abc3-59673b321a6e",
   "metadata": {},
   "outputs": [
    {
     "data": {
      "text/plain": [
       "sepal length (cm)    0\n",
       "sepal width (cm)     0\n",
       "petal length (cm)    0\n",
       "petal width (cm)     0\n",
       "target               0\n",
       "dtype: int64"
      ]
     },
     "execution_count": 33,
     "metadata": {},
     "output_type": "execute_result"
    }
   ],
   "source": [
    "iris_df.isnull().sum()"
   ]
  },
  {
   "cell_type": "markdown",
   "id": "138f0ef9-394b-4a48-989b-7611218b2b3f",
   "metadata": {
    "jp-MarkdownHeadingCollapsed": true,
    "tags": []
   },
   "source": [
    "## Visualization using Dash Plotly"
   ]
  },
  {
   "cell_type": "markdown",
   "id": "e59dbe17-346a-462b-9d8c-5f01f99db877",
   "metadata": {
    "jp-MarkdownHeadingCollapsed": true,
    "tags": []
   },
   "source": [
    "### Intializing Dash App"
   ]
  },
  {
   "cell_type": "code",
   "execution_count": 62,
   "id": "c777b2f9-21e0-487d-b9d4-0dfb062e794b",
   "metadata": {},
   "outputs": [],
   "source": [
    "import dash\n",
    "from dash import dcc, html\n",
    "from dash.dependencies import Input, Output\n",
    "from sklearn.datasets import load_iris\n",
    "import pandas as pd\n",
    "\n",
    "# Firstly, we are setting up the Dash app\n",
    "app = dash.Dash(__name__)\n"
   ]
  },
  {
   "cell_type": "markdown",
   "id": "83f7da21-8f89-47c7-8616-8aba66778283",
   "metadata": {
    "jp-MarkdownHeadingCollapsed": true,
    "tags": []
   },
   "source": [
    "### Define app layout"
   ]
  },
  {
   "cell_type": "code",
   "execution_count": 63,
   "id": "a7b0c65a-5680-4ee8-bd8b-9afdb8e4802b",
   "metadata": {},
   "outputs": [],
   "source": [
    "#Defining the app layout: \n",
    "\n",
    "app.layout = html.Div([\n",
    "    html.H1(\"Iris Flower Data Set Visualization\", style={'color': 'blue',  'text-align': 'center'}),\n",
    "\n",
    "    # In this step, we are creating dropdown selection option the X-axis and also specifying a feature 'sepal length' as an intial state of the plot;\n",
    "    # but at latter stages users can freely select the variables.\n",
    "    \n",
    "    dcc.Dropdown(\n",
    "        id='x-axis',\n",
    "        options=[{'label': feature, 'value': feature} for feature in iris.feature_names],\n",
    "        value='sepal length (cm)',\n",
    "        style={'width': '50%'}\n",
    "    ),\n",
    "\n",
    "    # Now we are creating dropdown selection option the vertical axis and also specifying a feature 'petal length' as an intial state, users can freely select the variables.\n",
    "   \n",
    "    dcc.Dropdown(\n",
    "        id='y-axis',\n",
    "        options=[{'label': feature, 'value': feature} for feature in iris.feature_names],\n",
    "        value='petal length (cm)',\n",
    "        style={'width': '50%'}\n",
    "    ),\n",
    "\n",
    "    \n",
    "    # Scatter plot\n",
    "    dcc.Graph(id='scatter-plot',\n",
    "              hoverData={'points': [{'pointNumber': 0, 'curveNumber': 0}]},\n",
    "              config={'displayModeBar': False}\n",
    "              ),\n",
    "\n",
    "    # Hover data display\n",
    "    html.Div(id='hover-data')\n",
    "])\n",
    "\n",
    "    "
   ]
  },
  {
   "cell_type": "markdown",
   "id": "5e06082a-ef4b-4723-a3ec-08fdd762093f",
   "metadata": {
    "jp-MarkdownHeadingCollapsed": true,
    "tags": []
   },
   "source": [
    "### Defining Scatter Plot "
   ]
  },
  {
   "cell_type": "code",
   "execution_count": 64,
   "id": "081ce7b0-6e25-466d-b033-6b86d92b2fe1",
   "metadata": {},
   "outputs": [],
   "source": [
    "def get_scatter_plot(selected_x, selected_y):\n",
    "    scatter_plot = {\n",
    "        'data': [\n",
    "            dict(\n",
    "                x=iris_df[iris_df['target'] == i][selected_x].tolist(),\n",
    "                y=iris_df[iris_df['target'] == i][selected_y].tolist(),\n",
    "                text=f\"{target_names[i]} Class\",\n",
    "                mode='markers',\n",
    "                opacity=0.7,\n",
    "                marker={\n",
    "                    'size': 15,\n",
    "                    'line': {'width': 0.5, 'color': 'white'}\n",
    "                },\n",
    "                name=target_names[i]\n",
    "            ) for i in range(len(target_names))\n",
    "        ],\n",
    "        'layout': dict(\n",
    "            xaxis={'title': selected_x},\n",
    "            yaxis={'title': selected_y},\n",
    "            margin={'l': 40, 'b': 40, 't': 10, 'r': 0},\n",
    "            hovermode='closest'\n",
    "        )\n",
    "    }\n",
    "    return scatter_plot"
   ]
  },
  {
   "cell_type": "markdown",
   "id": "5cfc6309-1506-4f43-82cc-78af60ac91f0",
   "metadata": {
    "jp-MarkdownHeadingCollapsed": true,
    "tags": []
   },
   "source": [
    "### Adding Hover Functionality"
   ]
  },
  {
   "cell_type": "code",
   "execution_count": 65,
   "id": "798af8fc-dd87-4fbb-8dcc-55888ef93156",
   "metadata": {},
   "outputs": [],
   "source": [
    "def get_hover_text(selected_x, selected_y, selected_point):\n",
    "    hover_text = f\"Selected Point Info:<br>\" \\\n",
    "                 f\"{selected_x}: {str(iris_df[selected_x].iloc[selected_point['pointNumber']])}<br>\" \\\n",
    "                 f\"{selected_y}: {str(iris_df[selected_y].iloc[selected_point['pointNumber']])}\"\n",
    "    return hover_text"
   ]
  },
  {
   "cell_type": "markdown",
   "id": "a4bab23f-07ea-4ccb-81b8-7d8b4ac9f896",
   "metadata": {
    "jp-MarkdownHeadingCollapsed": true,
    "tags": []
   },
   "source": [
    "### Defining the callback fucntion"
   ]
  },
  {
   "cell_type": "code",
   "execution_count": 66,
   "id": "47658c8a-3183-40dd-a322-ee54f1c6beb0",
   "metadata": {},
   "outputs": [],
   "source": [
    "# It will make our scatter plot dynamic and will be triggered when users refine their selections in the dropdown menus.\n",
    "\n",
    "@app.callback(\n",
    "    [Output('scatter-plot', 'figure'),\n",
    "     Output('hover-data', 'children')],\n",
    "    [Input('x-axis', 'value'),\n",
    "     Input('y-axis', 'value'),\n",
    "     Input('scatter-plot', 'hoverData')]\n",
    ")\n",
    "def update_scatter_plot(selected_x, selected_y, hover_data):\n",
    "    selected_point = hover_data['points'][0] if hover_data else {'pointNumber': 0, 'curveNumber': 0}\n",
    "    \n",
    "    scatter_plot = get_scatter_plot(selected_x, selected_y)\n",
    "    hover_text = get_hover_text(selected_x, selected_y, selected_point)\n",
    "\n",
    "    return scatter_plot, hover_text"
   ]
  },
  {
   "cell_type": "markdown",
   "id": "b439ee1c-8f3b-4b78-8b4b-e617bdbcbbf7",
   "metadata": {
    "tags": []
   },
   "source": [
    "### Running the App"
   ]
  },
  {
   "cell_type": "code",
   "execution_count": 67,
   "id": "7b971b4b-733f-4d43-9253-fdd1c8ce25b4",
   "metadata": {},
   "outputs": [
    {
     "data": {
      "text/html": [
       "\n",
       "        <iframe\n",
       "            width=\"100%\"\n",
       "            height=\"650\"\n",
       "            src=\"http://127.0.0.1:8053/\"\n",
       "            frameborder=\"0\"\n",
       "            allowfullscreen\n",
       "            \n",
       "        ></iframe>\n",
       "        "
      ],
      "text/plain": [
       "<IPython.lib.display.IFrame at 0x1fc47ff8250>"
      ]
     },
     "metadata": {},
     "output_type": "display_data"
    }
   ],
   "source": [
    "if __name__ == '__main__':\n",
    "    app.run_server(debug=True, port=8053)\n"
   ]
  },
  {
   "cell_type": "code",
   "execution_count": null,
   "id": "efff2853-2245-49a3-93d4-f3f9f13fe2de",
   "metadata": {},
   "outputs": [],
   "source": []
  },
  {
   "cell_type": "code",
   "execution_count": null,
   "id": "020c6423-2414-447b-837a-84065de03aa1",
   "metadata": {},
   "outputs": [],
   "source": []
  },
  {
   "cell_type": "code",
   "execution_count": null,
   "id": "e90b2cca-395f-4513-9e13-fe396d9365cc",
   "metadata": {},
   "outputs": [],
   "source": []
  }
 ],
 "metadata": {
  "kernelspec": {
   "display_name": "Python 3 (ipykernel)",
   "language": "python",
   "name": "python3"
  },
  "language_info": {
   "codemirror_mode": {
    "name": "ipython",
    "version": 3
   },
   "file_extension": ".py",
   "mimetype": "text/x-python",
   "name": "python",
   "nbconvert_exporter": "python",
   "pygments_lexer": "ipython3",
   "version": "3.10.9"
  }
 },
 "nbformat": 4,
 "nbformat_minor": 5
}
